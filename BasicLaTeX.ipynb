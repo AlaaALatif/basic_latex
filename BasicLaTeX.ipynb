{
 "cells": [
  {
   "cell_type": "markdown",
   "metadata": {},
   "source": [
    "# Basic LaTeX in Jupyter\n",
    "This notebook should act as a concise but incomplete tutorial to using LaTeX notation inside Jupyter notebooks for displaying mathematical formulae. I used the context of linear regression to demonstrate various notations in LaTeX"
   ]
  },
  {
   "cell_type": "markdown",
   "metadata": {},
   "source": [
    "## Simple Linear Regression (basic notation)\n",
    "\n",
    "$$ y_{i} = \\beta_{0} + \\beta_{1}X_{i} + \\epsilon_{i} $$"
   ]
  },
  {
   "cell_type": "markdown",
   "metadata": {},
   "source": [
    "### Main Assumptions (random variable notation)\n",
    "$$ E[\\epsilon_{i}] = 0 $$\n",
    "\n",
    "$$ Var(\\epsilon_{i}) = \\sigma^{2} $$\n",
    "\n",
    "$$ Cov(\\epsilon_{i}, \\epsilon_{j}) = 0 $$\n",
    "\n",
    "$$ \\epsilon_{i} \\sim \\mathcal{N}(0, \\sigma^{2}) $$ "
   ]
  },
  {
   "cell_type": "markdown",
   "metadata": {},
   "source": [
    "### When to use SLR (fraction notation)\n",
    "If there is correlation, which is expressed as:\n",
    "\n",
    "$$ \\rho = corr(X, Y) = \\frac{Cov(X,Y)}{\\sqrt{Var(X)Var(Y)}}$$"
   ]
  },
  {
   "cell_type": "markdown",
   "metadata": {},
   "source": [
    "### OLSE (partial differentiation notation)\n",
    "Sum-of-squares can be expressed as:\n",
    "$$ S(\\beta_{0}, \\beta_{1}) = \\sum \\limits_{i=1}^{n} (y_{i} - (\\beta_{0} + \\beta_{1}x_{i}))^{2} $$\n",
    "Solutions obtained by setting\n",
    "$$ \\frac{\\partial S(\\beta_{0}, \\beta_{1})}{\\partial \\beta_{0}} = 0 $$\n",
    "\n",
    "$$   \\frac{\\partial S(\\beta_{0}, \\beta_{1})}{\\partial \\beta_{1}} = 0 $$\n",
    "[TODO] Solutions are:"
   ]
  },
  {
   "cell_type": "markdown",
   "metadata": {},
   "source": [
    "### General Model Description (vector notation)\n",
    "$$\\mathbf{S(\\beta)} = (\\mathbf{y} - \\mathbf{X\\beta})^{T}(\\mathbf{y}-\\mathbf{X\\beta}) = \\mathbf{y}^{T}\\mathbf{y} + \\mathbf{\\beta}^{T}\\mathbf{X}^{T}\\mathbf{X\\beta} - 2\\mathbf{\\beta}^{T}\\mathbf{X}^{T}\\mathbf{y} $$"
   ]
  },
  {
   "cell_type": "markdown",
   "metadata": {},
   "source": [
    "## Contributions\n",
    "As you can already tell, the notebook currently covers very basic LaTeX notation. If you know additional LaTeX notation that can be used inside Jupyter, then feel free to submit a PR to add them to the notebook. If you do, make sure you add your name under \"Contributors\" in the README file :). Here are some suggestions that I'm not sure are possible in Jupyter:\n",
    "\n",
    "* definitions, theorems, and lemmas\n",
    "* algorithms and pseudocode (could we use algorithmic package inside Jupyter?)\n",
    "* conditional function definitions i.e. f(x) = y if x>0, 0 otherwise"
   ]
  },
  {
   "cell_type": "markdown",
   "metadata": {},
   "source": [
    "## References\n",
    "* Mathematical formulae were taken from [Dr. Shan Wang's](https://www.usfca.edu/faculty/shan-wang) lecture notes on Linear Regression"
   ]
  }
 ],
 "metadata": {
  "kernelspec": {
   "display_name": "Python 3",
   "language": "python",
   "name": "python3"
  },
  "language_info": {
   "codemirror_mode": {
    "name": "ipython",
    "version": 3
   },
   "file_extension": ".py",
   "mimetype": "text/x-python",
   "name": "python",
   "nbconvert_exporter": "python",
   "pygments_lexer": "ipython3",
   "version": "3.7.3"
  }
 },
 "nbformat": 4,
 "nbformat_minor": 2
}
